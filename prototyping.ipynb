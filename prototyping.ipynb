{
 "cells": [
  {
   "cell_type": "code",
   "execution_count": 1,
   "metadata": {},
   "outputs": [],
   "source": [
    "import numpy as np"
   ]
  },
  {
   "cell_type": "markdown",
   "metadata": {},
   "source": [
    "# Feed forward"
   ]
  },
  {
   "cell_type": "markdown",
   "metadata": {},
   "source": [
    "## Data Matrices"
   ]
  },
  {
   "cell_type": "markdown",
   "metadata": {},
   "source": [
    "For the fully connected feed forward neural network, we have multiple important matrices to keep track of. Let's first define the data matrices for the undefined supervised learning problem that our network will be training on. \n",
    "\n",
    "$$\\underline{X} = \\begin{bmatrix}\n",
    "    x_{1,1} & \\cdots & x_{1,m} \\\\\n",
    "    \\vdots & \\ddots & \\vdots \\\\\n",
    "    x_{n_x,1} & \\cdots & x_{n_x,m}\n",
    "\\end{bmatrix}$$\n",
    "\n",
    "Here, $n_x$ is the number of features in the input dataset. $m$ is the number of training examples we will feed into the network. So $\\underline{X}$ can be thought of a collection of column vectors where each one represents a datapoint."
   ]
  },
  {
   "cell_type": "markdown",
   "metadata": {},
   "source": [
    "$\\underline{Y}$ is defined similarly, where this is the matrix that contains the labels for the training data. \n",
    "\n",
    "$$\\underline{Y} = \\begin{bmatrix}\n",
    "    y_1 & \\cdots & y_i \\cdots & y_m\n",
    "\\end{bmatrix}$$\n",
    "\n",
    "$y_i$ is intentionally left ambiguous here, as it will vary depending on the problem. If it is regression or binary classification, it will be a number, if it is multiclass classification, it will be a vector."
   ]
  },
  {
   "cell_type": "code",
   "execution_count": 9,
   "metadata": {},
   "outputs": [
    {
     "name": "stdout",
     "output_type": "stream",
     "text": [
      "The number of features are  100\n",
      "The number of training examples are  1000\n"
     ]
    }
   ],
   "source": [
    "# For now, invent meaningless data that is already normalised for development.\n",
    "X = np.random.randn(100, 1000) # 100 features, 1000 examples\n",
    "Y = np.random.randint(2, size=(1,1000)) # the training labels for binary classification for 1000 examples\n",
    "nx = X.shape[0]\n",
    "m = X.shape[1]\n",
    "ny = Y.shape[0]\n",
    "print(\"The number of features are \", nx)\n",
    "print(\"The number of training examples are \", m)"
   ]
  },
  {
   "cell_type": "markdown",
   "metadata": {},
   "source": []
  }
 ],
 "metadata": {
  "kernelspec": {
   "display_name": "10env",
   "language": "python",
   "name": "10env"
  },
  "language_info": {
   "codemirror_mode": {
    "name": "ipython",
    "version": 3
   },
   "file_extension": ".py",
   "mimetype": "text/x-python",
   "name": "python",
   "nbconvert_exporter": "python",
   "pygments_lexer": "ipython3",
   "version": "3.10.13"
  },
  "orig_nbformat": 4
 },
 "nbformat": 4,
 "nbformat_minor": 2
}
