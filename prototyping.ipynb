{
 "cells": [
  {
   "cell_type": "code",
   "execution_count": 17,
   "metadata": {},
   "outputs": [],
   "source": [
    "import numpy as np"
   ]
  },
  {
   "cell_type": "markdown",
   "metadata": {},
   "source": [
    "# Feed forward"
   ]
  },
  {
   "cell_type": "markdown",
   "metadata": {},
   "source": [
    "## Data Matrices"
   ]
  },
  {
   "cell_type": "markdown",
   "metadata": {},
   "source": [
    "For the fully connected feed forward neural network, we have multiple important matrices to keep track of. Let's first define the data matrices for the undefined supervised learning problem that our network will be training on. \n",
    "\n",
    "$$X = \\begin{bmatrix}\n",
    "    x_{1,1} & \\cdots & x_{1,m} \\\\\n",
    "    \\vdots & \\ddots & \\vdots \\\\\n",
    "    x_{n_x,1} & \\cdots & x_{n_x,m}\n",
    "\\end{bmatrix}$$\n",
    "\n",
    "Here, $n_x$ is the number of features in the input dataset. $m$ is the number of training examples we will feed into the network. So $X$ can be thought of a collection of column vectors where each one represents a datapoint."
   ]
  },
  {
   "cell_type": "markdown",
   "metadata": {},
   "source": [
    "$\\underline{Y}$ is defined similarly, where this is the matrix that contains the labels for the training data. \n",
    "\n",
    "$$\\underline{Y} = \\begin{bmatrix}\n",
    "    y_1 & \\cdots & y_i \\cdots & y_m\n",
    "\\end{bmatrix}$$\n",
    "\n",
    "$y_i$ is intentionally left ambiguous here, as it will vary depending on the problem. If it is regression or binary classification, it will be a number, if it is multiclass classification, it will be a vector."
   ]
  },
  {
   "cell_type": "code",
   "execution_count": 18,
   "metadata": {},
   "outputs": [
    {
     "name": "stdout",
     "output_type": "stream",
     "text": [
      "The number of features are  10\n",
      "The number of training examples are  1000\n"
     ]
    }
   ],
   "source": [
    "# For now, invent meaningless data that is already normalised for development.\n",
    "X = np.random.randn(10, 1000) # 100 features, 1000 examples\n",
    "Y = np.random.randint(2, size=(1,1000)) # the training labels for binary classification for 1000 examples\n",
    "nx = X.shape[0]\n",
    "m = X.shape[1]\n",
    "ny = Y.shape[0]\n",
    "print(\"The number of features are \", nx)\n",
    "print(\"The number of training examples are \", m)"
   ]
  },
  {
   "cell_type": "markdown",
   "metadata": {},
   "source": [
    "## Layer Matrices"
   ]
  },
  {
   "cell_type": "markdown",
   "metadata": {},
   "source": [
    "### Layer 1"
   ]
  },
  {
   "cell_type": "markdown",
   "metadata": {},
   "source": [
    "The transformations of the data at each layer are defined by a weight and a bias matrix. These define the sum of linear regressions that are happening at each layer in each neuron in the network. \n",
    "\n",
    "For the first hidden layer, the feature matrix $X$ undergoes the linear transformation \n",
    "\n",
    "$$Z^{[1]} = W^{[1]}X + B^{[1]}$$\n",
    "\n",
    "where $W^{[1]}X$ is the weight matrix of the first layer of dimension $(n_{h}^{[1]}, n_x)$ where $n_{h}^{[1]}$ is the number of neurons in the first hidden layer. This ensures that the product $W^{[1]}X$ has the dimension $(n_{h}^{[1]}, m)$, effectively propagating the training samples through the network. \n",
    "\n",
    "$B^{[1]}$ is actually a column vector of dimension $(n_{h}^{[1]}, 1)$ that is broadcast to have the dimension $(n_{h}^{[1]}, m)$ to make the calculations easier. \n",
    "\n",
    "A non-linear activation function $g^{[1]}(Z^{[1]})$ is applied to the linear transformation $Z^{[1]}$ to give the output of the first layer, \n",
    "\n",
    "$$A^{[1]} = g^{[1]}(Z^{[1]}) = g^{[1]}(W^{[1]}X + B^{[1]})$$\n",
    "\n",
    "$g^{[1]}$ is usually the ReLU function for hidden layers. "
   ]
  },
  {
   "cell_type": "markdown",
   "metadata": {},
   "source": [
    "### All Layers"
   ]
  },
  {
   "cell_type": "markdown",
   "metadata": {},
   "source": [
    "In general, the output of any layer $l$ within the neural network is given by \n",
    "\n",
    "$$A^{[l]} = g^{[l]}(Z^{[l]}) = g^{[l]}(W^{[l]}A^{[l-1]} + B^{[1]})$$\n",
    "\n",
    "where $A^{[l]}$ is of shape $(n_h^{[l]}, m)$ and $W^{[l]}$ is of shape $(n_h^{[l]}, n_h^{[l-1]})$. \n",
    "\n",
    "$ l \\in [0, L]$ where $l=0$ corresponds to the input layer and $l=L$ is the ouput layer where $A^{[L]} = \\hat{Y}$ which are the predictions of the network for the labels $Y$.\n",
    "\n",
    "When initialising, $B$ can be $0$, but the weight matrices $W$ must not be set to $0$ to ensure that there is symmetry breaking and the network can learn. "
   ]
  },
  {
   "cell_type": "code",
   "execution_count": 19,
   "metadata": {},
   "outputs": [],
   "source": [
    "# Let us imagine a 4 hidden layer neural network\n",
    "layer_dims = [nx, 5, 4, 3, ny]\n",
    "L = len(layer_dims) - 1\n",
    "\n",
    "# Initialise the weights and biases, storing in a parameters dictionary\n",
    "parameters = {}\n",
    "for l in range (1, L+1):\n",
    "    parameters[f\"W{l}\"] = np.random.randn(layer_dims[l], layer_dims[l-1]) * 0.01\n",
    "    parameters[f\"B{l}\"] = np.zeros((layer_dims[l], m))"
   ]
  },
  {
   "cell_type": "code",
   "execution_count": 20,
   "metadata": {},
   "outputs": [],
   "source": [
    "# Build the needed activation functions\n",
    "def relu(Z):\n",
    "    return np.maximum(0, Z)\n",
    "\n",
    "def sigmoid(Z):\n",
    "    return 1 / (1 + np.exp(-1*Z))"
   ]
  },
  {
   "cell_type": "code",
   "execution_count": 21,
   "metadata": {},
   "outputs": [],
   "source": [
    "# Cache to store the linear sum and activation matrices \n",
    "cache = {}\n",
    "# Now calculate the activations - forward propagation through the network\n",
    "cache['A0'] = X\n",
    "\n",
    "# All hidden layers use ReLU\n",
    "for l in range(1, L):\n",
    "    cache[f\"Z{l}\"] = np.dot(parameters[f\"W{l}\"], cache[f\"A{l-1}\"]) + parameters[f\"B{l}\"]\n",
    "    cache[f\"A{l}\"] = relu(cache[f\"Z{l}\"])\n",
    "\n",
    "# Do final layer with sigmoid \n",
    "cache[f\"Z{L}\"] = np.dot(parameters[f\"W{L}\"], cache[f\"A{L-1}\"]) + parameters[f\"B{L}\"]\n",
    "cache[f\"A{L}\"] = sigmoid(cache[f\"Z{L}\"])"
   ]
  },
  {
   "cell_type": "markdown",
   "metadata": {},
   "source": [
    "# Cost functions"
   ]
  },
  {
   "cell_type": "markdown",
   "metadata": {},
   "source": [
    "We have now completed our first pass of propagating the training data through the neural net. We need some way of quantifying how good or bad the neural net was at predicting the labels $Y$ across the entire training set $m$. This is the job of the cost function. \n",
    "\n",
    "For binary classification, the cost function is given by \n",
    "$$J = -\\frac{1}{m}\\sum_{\\text{axis}=1}\\left[\\vec{Y}\\odot\\log(\\vec{A}^{[L]})+(1-\\vec{Y})\\odot\\log(1-\\vec{A}^{[L]})\\right]$$"
   ]
  },
  {
   "cell_type": "markdown",
   "metadata": {},
   "source": [
    "For multiclass classification, the cost function is given by \n",
    "$$J = -\\frac{1}{m}\\sum_{\\text{axis}=0}\\sum_{\\text{axis}=1}\\left[Y\\odot\\log(A^{[L]})\\right]$$"
   ]
  },
  {
   "cell_type": "markdown",
   "metadata": {},
   "source": [
    "For regression, the cost function is given by \n",
    "$$J = \\frac{1}{2m}\\sum_{\\text{axis}=1}\\left[\\vec{A}^{[L+1]}-\\vec{Y}\\right]^2"
   ]
  },
  {
   "cell_type": "code",
   "execution_count": 22,
   "metadata": {},
   "outputs": [],
   "source": [
    "def compute_cost(A, Y, type):\n",
    "    \"\"\"Compute the cost of the predictions of the neural network against the training data.\n",
    "\n",
    "    Args:\n",
    "        A (np.array): Matrix of the activations of the final layer.\n",
    "        Y (np.array): Matrix of the true values of the training labels.\n",
    "        type (str): The supervised learning task type. Can be one of 'binary classification', 'multilabel classification' or 'regression'.\n",
    "\n",
    "    Returns:\n",
    "        cost (int): The cost of the network's predictions.\n",
    "    \"\"\"\n",
    "    m = Y.shape[1]\n",
    "\n",
    "    if type == 'binary classification':\n",
    "        cost = (-1/m) * np.sum((Y * np.log(A) + (1-Y) * np.log(1-A)), axis=1)\n",
    "    elif type == 'multilabel classification':\n",
    "        cost = (-1/m) * np.sum(np.sum((Y * np.log(A)), axis=1), axis=0)\n",
    "    elif type == 'regression':\n",
    "        cost = (1/2*m) * np.sum((A - Y)**2, axis=1)\n",
    "    else:\n",
    "        return ValueError(\"Please enter a valid problem type of binary classification, multilabel classification, or regression\")\n",
    "\n",
    "    cost = np.squeeze(cost)      # To make sure your cost's shape is what we expect (e.g. this turns [[17]] into 17).\n",
    "    cost = float(cost)\n",
    "    return cost"
   ]
  },
  {
   "cell_type": "code",
   "execution_count": 23,
   "metadata": {},
   "outputs": [
    {
     "name": "stdout",
     "output_type": "stream",
     "text": [
      "Cost: 0.6931471807407298\n"
     ]
    }
   ],
   "source": [
    "J = compute_cost(cache[f\"A{L}\"], Y, 'binary classification')\n",
    "print(\"Cost: \" + str(J))"
   ]
  },
  {
   "cell_type": "markdown",
   "metadata": {},
   "source": [
    "# Backpropagation"
   ]
  },
  {
   "cell_type": "markdown",
   "metadata": {},
   "source": [
    "The idea of backpropagation is that we use informtion about the derivative of the cost function with respect to each of the weights and biases parameters to update each of these parameters such that they reduce the cost function and the neural network 'learns'. This called **gradient descent** and is done via\n",
    "\n",
    "$$\n",
    "\\begin{array}{cc}\n",
    "    w_{kj} \\xleftarrow{} \\left(w_{kj} - \\alpha \\frac{\\partial J}{\\partial w_{jk}}\\right) & \\quad \\quad b_{j} \\xleftarrow{} \\left(b_{j} - \\alpha \\frac{\\partial J}{\\partial b_{j}}\\right)\n",
    "\\end{array}\n",
    "$$\n",
    "\n",
    "From now on, we will use $\\partial \\theta$ to represent $\\frac{\\partial J}{\\partial \\theta}$ for arbitrary parameter $\\theta$.\n",
    "\n",
    "To perform gradient descent, we need access to these partial derivatives. We lay out four important equations that will allow us to update every parameter in the network"
   ]
  },
  {
   "cell_type": "markdown",
   "metadata": {},
   "source": [
    "### The Backpropagation Partial Derivatives"
   ]
  },
  {
   "cell_type": "markdown",
   "metadata": {},
   "source": [
    "$$\\partial Z^{[l]} = \\partial A^{[l]} \\odot \\dot{g}^{[l]}(Z^{[l]})$$"
   ]
  },
  {
   "cell_type": "markdown",
   "metadata": {},
   "source": [
    "$$\n",
    "\\begin{array}{cc}\n",
    "    \\partial W^{[l]} = \\partial Z^{[l]}A^{[l-1]T} & \\quad \\text{and} \\quad \\partial b^{[l]} = \\sum_{\\text{axis}=1}\\partial{Z^{[l]}}\n",
    "\\end{array}\n",
    "$$"
   ]
  },
  {
   "cell_type": "markdown",
   "metadata": {},
   "source": [
    "$$ \\partial A^{[l-1]} = W^{[l]\\text{T}} \\partial Z^{[l]} $$"
   ]
  },
  {
   "cell_type": "markdown",
   "metadata": {},
   "source": [
    "### Using the Cost Functions"
   ]
  },
  {
   "cell_type": "markdown",
   "metadata": {},
   "source": [
    "We see that at any given point we need $\\partial Z^{[l]}$. Hence, this means we need $\\partial A^{[l]}$ and $\\dot{g}^{[l]}(Z^{[l]})$. For $l=L$ we can work out $\\partial A^{[l]}$ for each cost function"
   ]
  },
  {
   "cell_type": "markdown",
   "metadata": {},
   "source": [
    "#### Binary Classification & Sigmoid\n",
    "$$\n",
    "\\begin{array}{cc}\n",
    "    \\partial A^{[L]} = -\\frac{1}{m}\\left[\\frac{Y}{A^{[L]}}-\\frac{1-Y}{1-A^{[L]}}\\right] & \\quad \\text{and} \\quad \\dot{g}^{[L]}(Z^{[L]}) = \\frac{e^{-Z}}{\\left[1+e^{-Z}\\right]^2}\n",
    "\\end{array}\n",
    "$$"
   ]
  },
  {
   "cell_type": "markdown",
   "metadata": {},
   "source": [
    "#### Multilabel Classification & Softmax\n",
    "$$\n",
    "\\begin{array}{cc}\n",
    "    \\partial A^{[L]} = -\\frac{1}{m}\\frac{Y}{A^{[L]}} & \\quad \\text{and} \\quad \\dot{g}^{[L]}(Z^{[L]}) = \\frac{e^{Z^{[L]}}}{\\sum_{\\text{axis}=0}e^{Z^{[L]}}} - \\left(\\frac{e^{Z^{[L]}}}{\\sum_{\\text{axis}=0}1+e^{Z^{[L]}}}\\right)^2\n",
    "\\end{array}\n",
    "$$"
   ]
  },
  {
   "cell_type": "markdown",
   "metadata": {},
   "source": [
    "#### Regression & ReLU\n",
    "$$\n",
    "\\begin{array}{cc}\n",
    "    \\partial A^{[L]} = -\\frac{1}{m}\\left(Y-A^{[L]}\\right) & \\quad \\text{and} \\quad \\dot{g}^{[l]}(Z^{[l]}) = \\begin{cases}\n",
    "    1 & \\text{if } Z^{[l]} > 0 \\\\\n",
    "    0 & \\text{if } Z^{[l]} < 0\n",
    "\\end{cases}\n",
    "\\end{array}\n",
    "$$"
   ]
  },
  {
   "cell_type": "code",
   "execution_count": 30,
   "metadata": {},
   "outputs": [],
   "source": [
    "def dA_final(Y, AL, type):\n",
    "    \"\"\"Returns a matrix where each element is the derivative of the cost function wrt each element of the final layer activation matrix.\"\"\"\n",
    "    m = Y.shape[1]\n",
    "\n",
    "    if type == 'binary classification':\n",
    "        dA = -(1/m) * ( np.divide(Y, AL) - np.divide((1-Y), (1-AL)) )\n",
    "    elif type == 'multilabel classification':\n",
    "        dA = -(1/m) * np.divide(Y, AL)\n",
    "    elif type == 'regression':\n",
    "        dA = -(1/m) * ( Y - AL )\n",
    "    else:\n",
    "        raise ValueError(\"Please enter a valid problem type of binary classification, multilabel classification, or regression\")\n",
    "    \n",
    "    return dA\n",
    "\n",
    "\n",
    "def activation_prime(Z, type):\n",
    "    \"\"\"Return the value of the derivative of the activation function specified at Z.\"\"\"\n",
    "    if type == 'sigmoid':\n",
    "        gprime = np.divide(np.exp(-Z), (1+np.exp(-Z))**2)\n",
    "    elif type == 'softmax':\n",
    "        softmax = np.divide(np.exp(Z), np.sum(np.exp(Z), axis=0, keepdims=True))\n",
    "        gprime = softmax - softmax**2\n",
    "    elif type == 'relu':\n",
    "        # Boolean array\n",
    "        gprime = (Z > 0).astype(int)\n",
    "    else:\n",
    "        raise ValueError(\"Please enter an activation function type of sigmoid, softmax or relu.\")\n",
    "    \n",
    "    return gprime\n",
    "\n",
    "\n",
    "def dA_hidden(W_plus_one, dZ_plus_one):\n",
    "    \"\"\"Returns a matrix where each element is the derivative of the cost function wrt each element of a hidden layer activation matrix using the recursion relationship.\n",
    "\n",
    "    Args:\n",
    "        W_plus_one (np.array): The weight matrix of the layer one step ahead of this layer.\n",
    "        dZ_plus_one (np.array): The matrix of derivatives of the cost function wrt linear regressions of the layer one step ahead of this one.\n",
    "\n",
    "    Returns:\n",
    "        np.array: the value of dA for this current hidden using the recursion relationship.\n",
    "    \"\"\"\n",
    "    return np.dot(W_plus_one.T, dZ_plus_one)"
   ]
  },
  {
   "cell_type": "code",
   "execution_count": 26,
   "metadata": {},
   "outputs": [
    {
     "name": "stdout",
     "output_type": "stream",
     "text": [
      "[[0.5        0.5        0.5        0.5        0.5        0.49999999\n",
      "  0.5        0.5        0.5        0.5        0.5        0.5\n",
      "  0.5        0.5        0.5        0.5        0.5        0.5\n",
      "  0.5        0.5        0.5        0.5        0.5        0.5\n",
      "  0.5        0.5        0.5        0.5        0.5        0.5\n",
      "  0.5        0.5        0.5        0.5        0.5        0.5\n",
      "  0.5        0.5        0.49999999 0.5        0.5        0.5\n",
      "  0.5        0.5        0.5        0.5        0.5        0.5\n",
      "  0.5        0.5        0.5        0.5        0.5        0.49999999\n",
      "  0.5        0.5        0.5        0.5        0.5        0.5\n",
      "  0.5        0.5        0.5        0.5        0.5        0.5\n",
      "  0.5        0.5        0.5        0.5        0.5        0.5\n",
      "  0.5        0.5        0.5        0.5        0.5        0.5\n",
      "  0.5        0.5        0.5        0.5        0.5        0.5\n",
      "  0.5        0.5        0.5        0.5        0.5        0.5\n",
      "  0.5        0.5        0.5        0.5        0.5        0.5\n",
      "  0.5        0.5        0.5        0.5        0.5        0.5\n",
      "  0.5        0.5        0.5        0.5        0.5        0.5\n",
      "  0.5        0.5        0.5        0.49999999 0.5        0.5\n",
      "  0.5        0.5        0.5        0.5        0.5        0.5\n",
      "  0.5        0.5        0.5        0.5        0.5        0.5\n",
      "  0.5        0.5        0.49999999 0.5        0.5        0.5\n",
      "  0.5        0.5        0.5        0.5        0.5        0.5\n",
      "  0.5        0.5        0.5        0.5        0.5        0.5\n",
      "  0.5        0.5        0.5        0.5        0.5        0.5\n",
      "  0.5        0.5        0.5        0.5        0.5        0.5\n",
      "  0.5        0.5        0.5        0.5        0.5        0.5\n",
      "  0.5        0.5        0.5        0.5        0.5        0.5\n",
      "  0.5        0.5        0.5        0.5        0.5        0.5\n",
      "  0.5        0.5        0.5        0.5        0.5        0.5\n",
      "  0.5        0.5        0.5        0.5        0.5        0.5\n",
      "  0.5        0.5        0.49999999 0.5        0.5        0.5\n",
      "  0.5        0.5        0.5        0.5        0.5        0.5\n",
      "  0.5        0.5        0.5        0.5        0.5        0.5\n",
      "  0.5        0.5        0.5        0.5        0.5        0.5\n",
      "  0.5        0.5        0.5        0.5        0.5        0.49999999\n",
      "  0.5        0.49999999 0.5        0.5        0.5        0.5\n",
      "  0.5        0.5        0.5        0.5        0.5        0.5\n",
      "  0.5        0.49999999 0.49999999 0.5        0.5        0.5\n",
      "  0.5        0.5        0.5        0.5        0.5        0.5\n",
      "  0.5        0.5        0.5        0.5        0.5        0.5\n",
      "  0.5        0.5        0.5        0.5        0.5        0.5\n",
      "  0.5        0.5        0.5        0.5        0.5        0.5\n",
      "  0.5        0.5        0.5        0.5        0.5        0.5\n",
      "  0.5        0.5        0.5        0.5        0.49999999 0.5\n",
      "  0.5        0.5        0.5        0.5        0.5        0.5\n",
      "  0.5        0.5        0.5        0.5        0.5        0.5\n",
      "  0.5        0.5        0.5        0.5        0.5        0.5\n",
      "  0.5        0.5        0.5        0.5        0.5        0.5\n",
      "  0.5        0.5        0.5        0.5        0.5        0.5\n",
      "  0.5        0.5        0.5        0.5        0.5        0.5\n",
      "  0.5        0.49999999 0.5        0.5        0.5        0.5\n",
      "  0.5        0.5        0.5        0.5        0.5        0.5\n",
      "  0.5        0.5        0.5        0.5        0.5        0.5\n",
      "  0.5        0.5        0.5        0.5        0.5        0.5\n",
      "  0.5        0.5        0.5        0.5        0.5        0.49999999\n",
      "  0.5        0.5        0.5        0.5        0.5        0.5\n",
      "  0.5        0.5        0.5        0.5        0.5        0.5\n",
      "  0.5        0.5        0.5        0.5        0.49999999 0.5\n",
      "  0.5        0.5        0.5        0.5        0.5        0.49999999\n",
      "  0.5        0.5        0.5        0.5        0.5        0.5\n",
      "  0.5        0.5        0.5        0.5        0.5        0.5\n",
      "  0.5        0.5        0.5        0.5        0.5        0.5\n",
      "  0.5        0.5        0.5        0.5        0.5        0.5\n",
      "  0.5        0.5        0.5        0.5        0.5        0.5\n",
      "  0.5        0.5        0.5        0.5        0.5        0.5\n",
      "  0.5        0.5        0.5        0.5        0.5        0.5\n",
      "  0.5        0.5        0.5        0.5        0.5        0.5\n",
      "  0.5        0.5        0.5        0.5        0.5        0.5\n",
      "  0.5        0.5        0.5        0.5        0.5        0.49999999\n",
      "  0.5        0.5        0.5        0.5        0.5        0.5\n",
      "  0.5        0.5        0.5        0.5        0.5        0.49999999\n",
      "  0.5        0.5        0.5        0.5        0.5        0.49999999\n",
      "  0.5        0.5        0.5        0.5        0.5        0.5\n",
      "  0.5        0.5        0.5        0.5        0.5        0.5\n",
      "  0.5        0.5        0.5        0.5        0.5        0.5\n",
      "  0.49999999 0.5        0.5        0.5        0.5        0.5\n",
      "  0.5        0.5        0.5        0.5        0.5        0.5\n",
      "  0.5        0.5        0.5        0.5        0.5        0.5\n",
      "  0.5        0.5        0.5        0.5        0.5        0.5\n",
      "  0.5        0.5        0.5        0.5        0.5        0.5\n",
      "  0.5        0.5        0.5        0.5        0.5        0.5\n",
      "  0.5        0.5        0.5        0.5        0.5        0.5\n",
      "  0.5        0.5        0.5        0.5        0.5        0.5\n",
      "  0.5        0.5        0.5        0.5        0.5        0.5\n",
      "  0.5        0.5        0.5        0.5        0.5        0.5\n",
      "  0.5        0.5        0.5        0.5        0.5        0.5\n",
      "  0.5        0.5        0.5        0.5        0.5        0.5\n",
      "  0.5        0.5        0.5        0.5        0.5        0.5\n",
      "  0.5        0.5        0.5        0.5        0.5        0.5\n",
      "  0.5        0.5        0.5        0.5        0.5        0.5\n",
      "  0.5        0.5        0.5        0.5        0.5        0.5\n",
      "  0.5        0.5        0.5        0.5        0.5        0.5\n",
      "  0.5        0.5        0.5        0.5        0.5        0.5\n",
      "  0.5        0.5        0.5        0.5        0.5        0.5\n",
      "  0.5        0.5        0.5        0.5        0.5        0.5\n",
      "  0.5        0.5        0.5        0.5        0.5        0.5\n",
      "  0.5        0.5        0.5        0.5        0.5        0.5\n",
      "  0.5        0.5        0.5        0.5        0.5        0.5\n",
      "  0.5        0.5        0.5        0.49999999 0.5        0.5\n",
      "  0.5        0.5        0.5        0.5        0.5        0.5\n",
      "  0.5        0.5        0.5        0.5        0.5        0.5\n",
      "  0.5        0.5        0.5        0.5        0.5        0.5\n",
      "  0.5        0.5        0.5        0.5        0.5        0.5\n",
      "  0.5        0.5        0.5        0.5        0.49999999 0.5\n",
      "  0.5        0.5        0.5        0.5        0.5        0.5\n",
      "  0.5        0.5        0.5        0.5        0.5        0.5\n",
      "  0.5        0.5        0.5        0.5        0.5        0.5\n",
      "  0.5        0.5        0.5        0.5        0.5        0.5\n",
      "  0.5        0.5        0.5        0.5        0.5        0.5\n",
      "  0.5        0.5        0.5        0.5        0.5        0.5\n",
      "  0.5        0.49999999 0.5        0.5        0.5        0.5\n",
      "  0.5        0.5        0.5        0.5        0.5        0.5\n",
      "  0.5        0.5        0.5        0.5        0.5        0.5\n",
      "  0.5        0.5        0.5        0.5        0.5        0.5\n",
      "  0.5        0.5        0.5        0.5        0.5        0.5\n",
      "  0.5        0.5        0.5        0.5        0.5        0.5\n",
      "  0.5        0.5        0.5        0.5        0.5        0.5\n",
      "  0.5        0.49999999 0.5        0.5        0.5        0.5\n",
      "  0.5        0.5        0.5        0.5        0.5        0.5\n",
      "  0.5        0.5        0.5        0.5        0.5        0.5\n",
      "  0.5        0.5        0.5        0.5        0.5        0.5\n",
      "  0.5        0.5        0.5        0.5        0.5        0.5\n",
      "  0.5        0.5        0.5        0.5        0.5        0.5\n",
      "  0.5        0.5        0.5        0.5        0.5        0.5\n",
      "  0.5        0.5        0.5        0.5        0.5        0.5\n",
      "  0.5        0.5        0.5        0.5        0.5        0.5\n",
      "  0.5        0.5        0.5        0.5        0.5        0.5\n",
      "  0.5        0.5        0.5        0.5        0.5        0.5\n",
      "  0.5        0.5        0.5        0.5        0.5        0.5\n",
      "  0.5        0.5        0.5        0.5        0.5        0.5\n",
      "  0.5        0.5        0.5        0.5        0.5        0.5\n",
      "  0.5        0.5        0.5        0.5        0.5        0.5\n",
      "  0.5        0.5        0.5        0.5        0.5        0.5\n",
      "  0.5        0.5        0.5        0.5        0.5        0.5\n",
      "  0.5        0.5        0.5        0.5        0.5        0.5\n",
      "  0.5        0.5        0.5        0.5        0.49999999 0.5\n",
      "  0.5        0.5        0.5        0.5        0.5        0.5\n",
      "  0.5        0.5        0.5        0.5        0.5        0.5\n",
      "  0.5        0.5        0.5        0.5        0.5        0.5\n",
      "  0.5        0.5        0.5        0.5        0.5        0.5\n",
      "  0.5        0.5        0.5        0.5        0.5        0.5\n",
      "  0.5        0.49999999 0.5        0.5        0.49999999 0.5\n",
      "  0.5        0.5        0.5        0.5        0.5        0.5\n",
      "  0.5        0.5        0.5        0.5        0.5        0.5\n",
      "  0.5        0.5        0.5        0.5        0.5        0.5\n",
      "  0.5        0.5        0.5        0.5        0.5        0.5\n",
      "  0.5        0.5        0.5        0.5        0.5        0.5\n",
      "  0.5        0.5        0.5        0.5        0.5        0.5\n",
      "  0.5        0.5        0.5        0.5        0.5        0.49999999\n",
      "  0.5        0.5        0.5        0.5        0.5        0.5\n",
      "  0.5        0.5        0.5        0.5        0.5        0.5\n",
      "  0.5        0.5        0.5        0.5        0.5        0.5\n",
      "  0.5        0.5        0.5        0.5        0.5        0.5\n",
      "  0.5        0.5        0.5        0.5        0.49999999 0.5\n",
      "  0.5        0.5        0.5        0.5        0.5        0.5\n",
      "  0.5        0.5        0.5        0.5        0.5        0.5\n",
      "  0.5        0.5        0.5        0.5        0.5        0.5\n",
      "  0.5        0.5        0.5        0.5        0.5        0.5\n",
      "  0.5        0.5        0.5        0.5        0.5        0.5\n",
      "  0.5        0.5        0.5        0.5        0.5        0.5\n",
      "  0.49999999 0.5        0.5        0.5        0.5        0.5\n",
      "  0.5        0.5        0.5        0.49999999 0.5        0.5\n",
      "  0.5        0.5        0.5        0.5        0.5        0.5\n",
      "  0.5        0.5        0.5        0.5        0.5        0.5\n",
      "  0.5        0.49999999 0.5        0.5        0.5        0.5\n",
      "  0.49999999 0.5        0.5        0.5       ]]\n"
     ]
    }
   ],
   "source": [
    "learning_rate = 0.01\n",
    "\n",
    "# Get dZL\n",
    "dZL = dA_final(Y=Y, AL=cache[f'A{L}'], type='binary classification') * activation_prime(cache[f\"Z{L}\"], 'sigmoid')\n",
    "# Get dWL\n",
    "dWL = np.dot(dZL, cache[f\"A{L-1}\"].T)\n",
    "# Get dBL\n",
    "dBL = np.sum(dZL, axis=1, keepdims=True)"
   ]
  },
  {
   "cell_type": "code",
   "execution_count": 10,
   "metadata": {},
   "outputs": [
    {
     "name": "stdout",
     "output_type": "stream",
     "text": [
      "3\n",
      "2\n",
      "1\n"
     ]
    },
    {
     "name": "stderr",
     "output_type": "stream",
     "text": [
      "/var/folders/kr/b0myfb8n375_bzh05rj27xjm0000gn/T/ipykernel_13119/1685876607.py:16: RuntimeWarning: invalid value encountered in multiply\n",
      "  dZ = dA * activation_prime(cache[f\"Z{l}\"] , type='relu')\n"
     ]
    }
   ],
   "source": [
    "# Store final layer info\n",
    "dZ = dZL\n",
    "dW = dWL\n",
    "dB = dBL\n",
    "\n",
    "for l in reversed(range(1, L)):\n",
    "    print(l)\n",
    "    # Get dA from information of the front layer\n",
    "    dA = np.dot( parameters[f\"W{l+1}\"].T , dZ )\n",
    "\n",
    "    # Update the parameters of the layer in front of this one via gradient descent now that we no longer need that information\n",
    "    parameters[f\"W{l+1}\"] -= learning_rate*dW\n",
    "    parameters[f\"B{l+1}\"] -= learning_rate*dB\n",
    "\n",
    "    # Get dZl\n",
    "    dZ = dA * activation_prime(cache[f\"Z{l}\"] , type='relu')\n",
    "\n",
    "    # Get dWl and dBl\n",
    "    dW = np.dot( dZ, cache[f\"A{l-1}\"].T )\n",
    "    dB = np.sum( dZ, axis=1, keepdims=True)\n",
    "\n",
    "# Update the first layer \n",
    "parameters[f\"W{1}\"] -= learning_rate*dW\n",
    "parameters[f\"B{1}\"] -= learning_rate*dB"
   ]
  },
  {
   "cell_type": "markdown",
   "metadata": {},
   "source": [
    "# Overall Functions"
   ]
  },
  {
   "cell_type": "markdown",
   "metadata": {},
   "source": [
    "Lets compress this all into an `initialise_network`, `forwards_pass` and `backwards_pass` functions so that it is much easier to read. Along with a `train_neural_network` function that will wrap all of them."
   ]
  },
  {
   "cell_type": "markdown",
   "metadata": {},
   "source": [
    "Can't really implement an `update_final_layer` and `update_hidden_layer` function since we need the information on the parameters of the forward layer to calculate derivatives before we can update it using gradient descent."
   ]
  },
  {
   "cell_type": "code",
   "execution_count": 11,
   "metadata": {},
   "outputs": [],
   "source": [
    "def intialise_network(\n",
    "        layer_dims: list\n",
    "):\n",
    "    \"\"\"Initialise the neural network\n",
    "\n",
    "    Args:\n",
    "        X (np.array): Matrix containing the training data. Dimension (features, examples)\n",
    "        layer_dims (list): How many neurons each layer should have. First element must be the number of features in the training data.\n",
    "\n",
    "    Returns:\n",
    "        parameters (dict): The initialised weights and bias matrices.\n",
    "    \"\"\"\n",
    "    L = len(layer_dims) - 1\n",
    "    m = X.shape[1]\n",
    "\n",
    "    parameters = {}\n",
    "    for l in range (1, L+1):\n",
    "        parameters[f\"W{l}\"] = np.random.randn(layer_dims[l], layer_dims[l-1]) * 0.1\n",
    "        parameters[f\"B{l}\"] = np.zeros((layer_dims[l], m))\n",
    "\n",
    "    return parameters"
   ]
  },
  {
   "cell_type": "code",
   "execution_count": 12,
   "metadata": {},
   "outputs": [],
   "source": [
    "def forwards_pass(\n",
    "        X: np.array,\n",
    "        parameters: dict,\n",
    "        L: int\n",
    "):\n",
    "    \"\"\"Perform a forward pass through the neural network.\n",
    "\n",
    "    Args:\n",
    "        X (np.array): Data matrix of dimension (features, examples).\n",
    "        parameters (dict): Weight and bias matrices throughout the network.\n",
    "        L (int): How many layers the network has.\n",
    "\n",
    "    Returns:\n",
    "        cache (dict): The linear and activation matrices for each layer in the network.\n",
    "    \"\"\"\n",
    "    cache = {}\n",
    "    cache['A0'] = X\n",
    "\n",
    "    # All hidden layers use ReLU\n",
    "    for l in range(1, L+1):\n",
    "        cache[f\"Z{l}\"] = np.dot(parameters[f\"W{l}\"], cache[f\"A{l-1}\"]) + parameters[f\"B{l}\"]\n",
    "        cache[f\"A{l}\"] = relu(cache[f\"Z{l}\"])\n",
    "\n",
    "    # Do final layer with sigmoid \n",
    "    cache[f\"Z{L}\"] = np.dot(parameters[f\"W{L}\"], cache[f\"A{L-1}\"]) + parameters[f\"B{L}\"]\n",
    "    cache[f\"A{L}\"] = sigmoid(cache[f\"Z{L}\"])\n",
    "\n",
    "    return cache"
   ]
  },
  {
   "cell_type": "code",
   "execution_count": 27,
   "metadata": {},
   "outputs": [],
   "source": [
    "def backwards_pass(\n",
    "        Y: np.array,\n",
    "        parameters: dict,\n",
    "        cache: dict,\n",
    "        L: int,\n",
    "        learning_rate: float,\n",
    "        type: str\n",
    "):\n",
    "        \"\"\"Perform backpropagation and implement gradient descent on the parameters in all layers within the network.\n",
    "\n",
    "        Args:\n",
    "                Y (np.array): Matrix of the training labels.\n",
    "                parameters (dict): Contains the weights and biases matrices.\n",
    "                cache (dict): Contains the linear and activation matrices.\n",
    "                L (int): How many layers does the network have.\n",
    "                learning_rate (float): How quickly gradient descent should be performed.\n",
    "                type (str): The type of problem being solved, Can be 'binary classification', 'multilabel classification' or 'regression'.\n",
    "        \n",
    "        Returns:\n",
    "                parameters (dict): Tuned weights and biases matrices after performing gradient descent.\n",
    "        \"\"\"\n",
    "        # Do pass on the final layer first\n",
    "        if type == 'binary classification':\n",
    "                dZ = dA_final(Y=Y, AL=cache[f'A{L}'], type=type) * activation_prime(cache[f\"Z{L}\"], 'sigmoid')\n",
    "        elif type == 'multilabel classification':\n",
    "                dZ = dA_final(Y=Y, AL=cache[f'A{L}'], type=type) * activation_prime(cache[f\"Z{L}\"], 'softmax')\n",
    "        elif type == 'regression':\n",
    "                dZ = dA_final(Y=Y, AL=cache[f'A{L}'], type=type)\n",
    "        else:\n",
    "                raise ValueError(\"Choose a valid problem type.\")\n",
    "        \n",
    "        dW = np.dot(dZ, cache[f\"A{L-1}\"].T)\n",
    "        dB = np.sum(dZ, axis=1, keepdims=True)\n",
    "\n",
    "        # Propagate through the hidden layers\n",
    "        for l in reversed(range(1, L)):\n",
    "                # Get dA from information of the front layer\n",
    "                dA = np.dot( parameters[f\"W{l+1}\"].T , dZ )\n",
    "\n",
    "                # Update the parameters of the layer in front of this one via gradient descent now that we no longer need that information\n",
    "                parameters[f\"W{l+1}\"] -= learning_rate*dW\n",
    "                parameters[f\"B{l+1}\"] -= learning_rate*dB\n",
    "\n",
    "                dZ = dA * activation_prime(cache[f\"Z{l}\"] , type='relu')\n",
    "\n",
    "                dW = np.dot( dZ, cache[f\"A{l-1}\"].T )\n",
    "                dB = np.sum( dZ, axis=1, keepdims=True)\n",
    "\n",
    "        # Update the first layer \n",
    "        parameters[f\"W{1}\"] -= learning_rate*dW\n",
    "        parameters[f\"B{1}\"] -= learning_rate*dB\n",
    "\n",
    "        return parameters\n"
   ]
  },
  {
   "cell_type": "code",
   "execution_count": 28,
   "metadata": {},
   "outputs": [],
   "source": [
    "def train_neural_network(\n",
    "        X: np.array,\n",
    "        Y: np.array,\n",
    "        layer_dims: list,\n",
    "        training_epochs: int,\n",
    "        learning_rate: float,\n",
    "        type: str,\n",
    "        print_cost: bool = True\n",
    "\n",
    "):\n",
    "    \"\"\"Wrapper function to train a fully connected feed-forward neural network.\n",
    "\n",
    "    Args:\n",
    "        X (np.array): Data matrix of dimension (features, examples).\n",
    "        Y (np.array): Matrix of the training labels.\n",
    "        layer_dims (list): How many neurons each layer should have. First element must be the number of features in the training data.\n",
    "        training_epochs (int): How many epochs should the network train for.\n",
    "        learning_rate (float): The learning rate to apply to gradient descent.\n",
    "        type (str): The type of problem being solved, Can be 'binary classification', 'multilabel classification' or 'regression'.\n",
    "        print_cost (bool, optional): Whether the cost should be printed every 100 epochs. Defaults to True.\n",
    "\n",
    "    Returns:\n",
    "        parameters (dict), costs (list): Weights and bias matrices of the trained network and the costs every 100 epochs.\n",
    "    \"\"\"\n",
    "    # Reproducibility\n",
    "    np.random.seed(1)\n",
    "\n",
    "    costs = []\n",
    "    parameters = intialise_network(layer_dims)\n",
    "    L = len(layer_dims) - 1\n",
    "\n",
    "    for epoch in range(0, training_epochs):\n",
    "        cache = forwards_pass(X, parameters, L)\n",
    "        cost = compute_cost(cache[f\"A{L}\"], Y, type)\n",
    "        \n",
    "        # Cost information\n",
    "        if epoch%100==0 and print_cost:\n",
    "            print(cost)\n",
    "        if epoch % 100 == 0 or epoch == training_epochs:\n",
    "            costs.append(cost)\n",
    "\n",
    "        parameters = backwards_pass(Y, parameters, cache, L, learning_rate, type)\n",
    "        \n",
    "    return parameters, costs"
   ]
  },
  {
   "cell_type": "markdown",
   "metadata": {},
   "source": [
    "# Test drive!"
   ]
  },
  {
   "cell_type": "markdown",
   "metadata": {},
   "source": [
    "Let's take it for a spin! Let's redefine the inputs here for visual ease."
   ]
  },
  {
   "cell_type": "code",
   "execution_count": 51,
   "metadata": {},
   "outputs": [],
   "source": [
    "X = np.random.randn(100, 1000) \n",
    "Y = (np.sin( X[0, :] + X[6, :] ) > 0.5).astype(int).reshape(1, 1000)\n",
    "layer_dims = [X.shape[0], 5, 3, 2, Y.shape[0]]"
   ]
  },
  {
   "cell_type": "code",
   "execution_count": 53,
   "metadata": {},
   "outputs": [
    {
     "name": "stdout",
     "output_type": "stream",
     "text": [
      "0.6931559772867338\n",
      "0.6166310690806323\n",
      "0.6158793148501738\n",
      "0.6158684866484986\n",
      "0.6158671480358222\n",
      "0.6158659537390115\n",
      "0.6158647617066006\n",
      "0.6158635615190362\n",
      "0.6158623650368125\n",
      "0.6158611555887276\n",
      "0.6158598249174463\n",
      "0.6158583106014317\n",
      "0.6158564777024231\n",
      "0.615854132103199\n",
      "0.6158514951941149\n",
      "0.615848406430954\n",
      "0.61584471381673\n",
      "0.6158402192420152\n",
      "0.6158346858915358\n",
      "0.615827733168583\n",
      "0.6158188589345129\n",
      "0.6158074513043789\n",
      "0.6157923613693659\n",
      "0.615772088457509\n",
      "0.6157447338195748\n",
      "0.6157069363064746\n",
      "0.6156523349669645\n",
      "0.6155699686488211\n",
      "0.6154385960658235\n",
      "0.6152116902473668\n",
      "0.6147795327366998\n",
      "0.613796502595664\n",
      "0.6108891849776694\n",
      "0.5972208666464998\n",
      "0.5105445315438435\n",
      "0.3615216292061095\n",
      "0.28151377121438403\n",
      "0.22655342402339956\n",
      "0.17330104032265495\n",
      "0.13712301295190094\n",
      "0.12409738840647631\n",
      "0.11971161931342708\n",
      "0.11771932384858762\n",
      "0.11541604901100898\n",
      "0.11410221052038745\n",
      "0.1137119202246371\n",
      "0.11347608674986813\n",
      "0.11333892339072102\n",
      "0.11104071813661545\n",
      "0.11092323541999823\n",
      "0.11085317020575756\n",
      "0.11080716999313876\n",
      "0.11076778084802213\n",
      "0.11074383678952211\n",
      "0.11071943214324254\n",
      "0.11070063287596975\n",
      "0.11068551814774157\n",
      "0.11067307152296824\n",
      "0.11066126193337059\n",
      "0.11065755467936342\n",
      "0.11064566471997958\n",
      "0.11063762153746455\n",
      "0.11063176139439776\n",
      "0.11062528282267277\n",
      "0.1106210634792727\n",
      "0.11061557725899851\n",
      "0.11061133433146253\n",
      "0.1106080510539351\n",
      "0.11060479351413353\n",
      "0.11060063049590925\n",
      "0.11059974610788653\n",
      "0.1105949768459074\n",
      "0.11059329118224759\n",
      "0.11059055616328436\n",
      "0.11058834230484908\n",
      "0.11058596035800218\n",
      "0.11058327078152665\n",
      "0.11058253433364451\n",
      "0.1105809715993116\n",
      "0.11057871889580423\n",
      "0.11057728611477037\n",
      "0.1105754772591431\n",
      "0.11057457284701551\n",
      "0.11057385595032182\n",
      "0.11057204208043815\n",
      "0.11057131742733131\n",
      "0.1105692246274722\n",
      "0.11056843565363438\n",
      "0.1105669779197982\n",
      "0.11056610579496155\n",
      "0.11056561274632982\n",
      "0.11056456348066719\n",
      "0.11056351568029828\n",
      "0.11056296015579227\n",
      "0.11056199302367894\n",
      "0.11056119094033932\n",
      "0.11056140229192761\n",
      "0.1105602111135965\n",
      "0.11055921757751509\n",
      "0.11055854269394583\n"
     ]
    }
   ],
   "source": [
    "trained_parameters, costs = train_neural_network(X, Y, layer_dims, 10000, 0.1, 'binary classification')"
   ]
  },
  {
   "cell_type": "code",
   "execution_count": 55,
   "metadata": {},
   "outputs": [
    {
     "data": {
      "text/plain": [
       "Text(0, 0.5, 'Training Cost')"
      ]
     },
     "execution_count": 55,
     "metadata": {},
     "output_type": "execute_result"
    },
    {
     "data": {
      "image/png": "[encoded data removed]",
      "text/plain": [
       "<Figure size 640x480 with 1 Axes>"
      ]
     },
     "metadata": {},
     "output_type": "display_data"
    }
   ],
   "source": [
    "import matplotlib.pyplot as plt\n",
    "plt.plot(np.arange(0, 10000, 100), costs)\n",
    "plt.xlabel('Epoch')\n",
    "plt.ylabel(\"Training Cost\")"
   ]
  },
  {
   "cell_type": "markdown",
   "metadata": {},
   "source": [
    "# Testing the OOP Module"
   ]
  },
  {
   "cell_type": "code",
   "execution_count": 1,
   "metadata": {},
   "outputs": [],
   "source": [
    "import numpy as np\n",
    "from numpy_neural_net import NeuralNet"
   ]
  },
  {
   "cell_type": "code",
   "execution_count": 2,
   "metadata": {},
   "outputs": [],
   "source": [
    "X = np.random.randn(100, 1000) \n",
    "Y = (np.sin( X[0, :] + X[6, :] ) > 0.5).astype(int).reshape(1, 1000)\n",
    "layer_dims = [X.shape[0], 5, 3, 2, Y.shape[0]]"
   ]
  },
  {
   "cell_type": "code",
   "execution_count": 3,
   "metadata": {},
   "outputs": [],
   "source": [
    "test_net = NeuralNet(X, Y, layer_dims, 'binary classification')"
   ]
  },
  {
   "cell_type": "code",
   "execution_count": 4,
   "metadata": {},
   "outputs": [
    {
     "name": "stdout",
     "output_type": "stream",
     "text": [
      "Epoch 0 cost: 0.6931355062763359\n",
      "Epoch 100 cost: 0.6325823398672523\n",
      "Epoch 200 cost: 0.632030193654565\n",
      "Epoch 300 cost: 0.6320230100892186\n",
      "Epoch 400 cost: 0.6320218902671189\n",
      "Epoch 500 cost: 0.632020794668924\n",
      "Epoch 600 cost: 0.6320196602961915\n",
      "Epoch 700 cost: 0.6320184146631791\n",
      "Epoch 800 cost: 0.6320170640157968\n",
      "Epoch 900 cost: 0.6320155946797685\n",
      "Epoch 1000 cost: 0.6320138891072173\n",
      "Epoch 1100 cost: 0.6320120346333278\n",
      "Epoch 1200 cost: 0.6320099137191142\n",
      "Epoch 1300 cost: 0.6320070112627209\n",
      "Epoch 1400 cost: 0.6320038915598798\n",
      "Epoch 1500 cost: 0.6320003007260011\n",
      "Epoch 1600 cost: 0.6319961329790341\n",
      "Epoch 1700 cost: 0.6319912038294299\n",
      "Epoch 1800 cost: 0.6319853363124628\n",
      "Epoch 1900 cost: 0.6319784299554688\n",
      "Epoch 2000 cost: 0.6319702206943403\n",
      "Epoch 2100 cost: 0.6319608834148028\n",
      "Epoch 2200 cost: 0.631949677489395\n",
      "Epoch 2300 cost: 0.6319358034968031\n",
      "Epoch 2400 cost: 0.6319183686364509\n",
      "Epoch 2500 cost: 0.631895907567038\n",
      "Epoch 2600 cost: 0.6318660931827791\n",
      "Epoch 2700 cost: 0.6318266543371277\n",
      "Epoch 2800 cost: 0.6317721415792305\n",
      "Epoch 2900 cost: 0.6316945468442572\n",
      "Epoch 3000 cost: 0.6315786027967161\n",
      "Epoch 3100 cost: 0.6313943642911966\n",
      "Epoch 3200 cost: 0.6310738361567634\n",
      "Epoch 3300 cost: 0.63046317048416\n",
      "Epoch 3400 cost: 0.6291006190543678\n",
      "Epoch 3500 cost: 0.6254378869196136\n",
      "Epoch 3600 cost: 0.6116616700297214\n",
      "Epoch 3700 cost: 0.5381988616577277\n",
      "Epoch 3800 cost: 0.3094206655095909\n",
      "Epoch 3900 cost: 0.19697511220987957\n",
      "Epoch 4000 cost: 0.1619106466292672\n",
      "Epoch 4100 cost: 0.14983921724766583\n",
      "Epoch 4200 cost: 0.1452886122817379\n",
      "Epoch 4300 cost: 0.14312516424861849\n",
      "Epoch 4400 cost: 0.14196335683650632\n",
      "Epoch 4500 cost: 0.14123044287526876\n",
      "Epoch 4600 cost: 0.14069535149869017\n",
      "Epoch 4700 cost: 0.1402669194948235\n",
      "Epoch 4800 cost: 0.13989795470514943\n",
      "Epoch 4900 cost: 0.13958730631151173\n",
      "Epoch 5000 cost: 0.13932190975339642\n",
      "Epoch 5100 cost: 0.13907627116325672\n",
      "Epoch 5200 cost: 0.13885659614371476\n",
      "Epoch 5300 cost: 0.1386400261544191\n",
      "Epoch 5400 cost: 0.1384153369393762\n",
      "Epoch 5500 cost: 0.1381790980464354\n",
      "Epoch 5600 cost: 0.13795066457040867\n",
      "Epoch 5700 cost: 0.1377302222534561\n",
      "Epoch 5800 cost: 0.13749177842097807\n",
      "Epoch 5900 cost: 0.13725906698355306\n",
      "Epoch 6000 cost: 0.13701478516850013\n",
      "Epoch 6100 cost: 0.13677089346621493\n",
      "Epoch 6200 cost: 0.1365049260404277\n",
      "Epoch 6300 cost: 0.13621998257751694\n",
      "Epoch 6400 cost: 0.13591879561692274\n",
      "Epoch 6500 cost: 0.1356177310266098\n",
      "Epoch 6600 cost: 0.13533879170573454\n",
      "Epoch 6700 cost: 0.13507141285917235\n",
      "Epoch 6800 cost: 0.1348453456033975\n",
      "Epoch 6900 cost: 0.13465216204120858\n",
      "Epoch 7000 cost: 0.1344830014006722\n",
      "Epoch 7100 cost: 0.13419248012117527\n",
      "Epoch 7200 cost: 0.1339276044528413\n",
      "Epoch 7300 cost: 0.13378663551143066\n",
      "Epoch 7400 cost: 0.13367876934307177\n",
      "Epoch 7500 cost: 0.13344962053118206\n",
      "Epoch 7600 cost: 0.1331091852222038\n",
      "Epoch 7700 cost: 0.13287674623769447\n",
      "Epoch 7800 cost: 0.13254928597183854\n",
      "Epoch 7900 cost: 0.13212646638454306\n",
      "Epoch 8000 cost: 0.13165464551833816\n",
      "Epoch 8100 cost: 0.1312011930358786\n",
      "Epoch 8200 cost: 0.13063548298182842\n",
      "Epoch 8300 cost: 0.12982622319846646\n",
      "Epoch 8400 cost: 0.12946353182825016\n",
      "Epoch 8500 cost: 0.12921993160510867\n",
      "Epoch 8600 cost: 0.129042994721347\n",
      "Epoch 8700 cost: 0.1289138287910994\n",
      "Epoch 8800 cost: 0.12881290205531126\n",
      "Epoch 8900 cost: 0.1287367552306144\n",
      "Epoch 9000 cost: 0.1286759396442119\n",
      "Epoch 9100 cost: 0.12863408066342105\n",
      "Epoch 9200 cost: 0.1286035970258234\n",
      "Epoch 9300 cost: 0.12857531625226964\n",
      "Epoch 9400 cost: 0.12855418736252489\n",
      "Epoch 9500 cost: 0.12820536806279104\n",
      "Epoch 9600 cost: 0.1274741009987328\n",
      "Epoch 9700 cost: 0.12737230962144297\n",
      "Epoch 9800 cost: 0.1273030064816248\n",
      "Epoch 9900 cost: 0.12724470852135245\n"
     ]
    }
   ],
   "source": [
    "test_net.train_neural_network(training_epochs=10000, learning_rate=0.1)"
   ]
  },
  {
   "cell_type": "code",
   "execution_count": 5,
   "metadata": {},
   "outputs": [
    {
     "data": {
      "text/plain": [
       "Text(0, 0.5, 'Training Cost')"
      ]
     },
     "execution_count": 5,
     "metadata": {},
     "output_type": "execute_result"
    },
    {
     "data": {
      "image/png": "[encoded data removed]",
      "text/plain": [
       "<Figure size 640x480 with 1 Axes>"
      ]
     },
     "metadata": {},
     "output_type": "display_data"
    }
   ],
   "source": [
    "import matplotlib.pyplot as plt\n",
    "plt.plot(np.arange(0, test_net.training_epochs, 100), test_net.training_costs)\n",
    "plt.xlabel('Epoch')\n",
    "plt.ylabel(\"Training Cost\")"
   ]
  },
  {
   "cell_type": "code",
   "execution_count": 6,
   "metadata": {},
   "outputs": [],
   "source": [
    "predictions = test_net.predict(X_test=X)"
   ]
  },
  {
   "cell_type": "code",
   "execution_count": 7,
   "metadata": {},
   "outputs": [
    {
     "data": {
      "text/plain": [
       "(1, 1000)"
      ]
     },
     "execution_count": 7,
     "metadata": {},
     "output_type": "execute_result"
    }
   ],
   "source": [
    "predictions.shape"
   ]
  },
  {
   "cell_type": "code",
   "execution_count": 13,
   "metadata": {},
   "outputs": [
    {
     "data": {
      "text/plain": [
       "array([ 0.79896048, -0.22905906,  1.80208115,  1.51319189, -0.3806771 ,\n",
       "       -0.88878682,  0.75865578,  1.57519536,  0.49799349,  0.29027087,\n",
       "       -0.71615854, -0.03062098,  0.70455003,  1.68037592, -2.17143898,\n",
       "       -0.35873942,  1.43535711, -1.04714042, -0.20990418, -0.49002212,\n",
       "        0.45147532, -0.10099671,  0.03340837, -0.9141321 ,  1.47407921,\n",
       "       -0.10150343,  0.33349202, -0.27168553, -0.22711243, -0.82642627,\n",
       "        0.59024313,  0.6750198 , -1.22543256,  0.09285193,  1.12841251,\n",
       "        1.56874586, -1.13570058,  0.18072489, -0.56454989,  1.32798973,\n",
       "       -0.94440198,  0.35518911, -0.22681478,  0.93220772, -0.5386848 ,\n",
       "        1.11373103, -1.17233122, -0.92310782,  0.86554891, -1.08024277,\n",
       "       -0.59201078, -1.18514667, -0.3132526 , -1.43197964,  0.67389359,\n",
       "        1.44996656, -0.2101569 , -0.88983981,  0.82816746, -0.00599465,\n",
       "        1.89798911, -0.14423211, -1.94358595,  0.40647668,  0.3710965 ,\n",
       "       -0.43693569, -1.47665806, -1.13114531, -0.06040371, -0.21100152,\n",
       "       -1.6173816 ,  0.23387773,  0.48296278,  1.66315982, -1.09996226,\n",
       "        1.19754572,  0.26144902,  0.80122987, -1.13509913, -0.71513959,\n",
       "        0.28081257, -0.42853453, -0.53503906,  0.6177416 , -0.68038559,\n",
       "       -1.11578123, -0.18552669, -1.12328422,  0.73043452,  0.78754574,\n",
       "       -0.86692428, -0.92447319, -0.16740921,  0.17498508,  1.05362724,\n",
       "       -0.90981705, -1.36905776, -0.01696611,  0.32995127,  0.29126533])"
      ]
     },
     "execution_count": 13,
     "metadata": {},
     "output_type": "execute_result"
    }
   ],
   "source": [
    "X[:, 0]"
   ]
  },
  {
   "cell_type": "code",
   "execution_count": 10,
   "metadata": {},
   "outputs": [
    {
     "data": {
      "text/plain": [
       "array([[1, 0, 0]])"
      ]
     },
     "execution_count": 10,
     "metadata": {},
     "output_type": "execute_result"
    }
   ],
   "source": [
    "# Single test example\n",
    "test_net.predict(X[:, 0:3])"
   ]
  }
 ],
 "metadata": {
  "kernelspec": {
   "display_name": "10env",
   "language": "python",
   "name": "10env"
  },
  "language_info": {
   "codemirror_mode": {
    "name": "ipython",
    "version": 3
   },
   "file_extension": ".py",
   "mimetype": "text/x-python",
   "name": "python",
   "nbconvert_exporter": "python",
   "pygments_lexer": "ipython3",
   "version": "3.10.13"
  },
  "orig_nbformat": 4
 },
 "nbformat": 4,
 "nbformat_minor": 2
}
